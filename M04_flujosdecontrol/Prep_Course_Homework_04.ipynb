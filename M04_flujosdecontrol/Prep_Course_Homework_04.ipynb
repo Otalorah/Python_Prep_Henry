{
 "cells": [
  {
   "attachments": {},
   "cell_type": "markdown",
   "metadata": {},
   "source": [
    "## Flujos de Control"
   ]
  },
  {
   "attachments": {},
   "cell_type": "markdown",
   "metadata": {},
   "source": [
    "1) Crear una variable que contenga un elemento del conjunto de números enteros y luego imprimir por pantalla si es mayor o menor a cero"
   ]
  },
  {
   "cell_type": "code",
   "execution_count": 1,
   "metadata": {},
   "outputs": [
    {
     "name": "stdout",
     "output_type": "stream",
     "text": [
      "Es mayor a cero\n"
     ]
    }
   ],
   "source": [
    "variable = 10\n",
    "if variable>0:\n",
    "    print(\"Es mayor a cero\")\n",
    "else: \n",
    "    print(\"Es menor a cero\")\n"
   ]
  },
  {
   "attachments": {},
   "cell_type": "markdown",
   "metadata": {},
   "source": [
    "2) Crear dos variables y un condicional que informe si son del mismo tipo de dato"
   ]
  },
  {
   "cell_type": "code",
   "execution_count": 3,
   "metadata": {},
   "outputs": [
    {
     "name": "stdout",
     "output_type": "stream",
     "text": [
      "Son del mismo tipo de dato\n"
     ]
    }
   ],
   "source": [
    "variable = \"Juan\"\n",
    "variable2 = 4\n",
    "if type(variable) == type(variable2):\n",
    "    print(\"Son del mismo tipo de dato\")\n",
    "else:\n",
    "    print(\"No son del mismo tipo de dato\")"
   ]
  },
  {
   "attachments": {},
   "cell_type": "markdown",
   "metadata": {},
   "source": [
    "3) Para los valores enteros del 1 al 20, imprimir por pantalla si es par o impar"
   ]
  },
  {
   "cell_type": "code",
   "execution_count": 4,
   "metadata": {},
   "outputs": [
    {
     "name": "stdout",
     "output_type": "stream",
     "text": [
      "0  Es par\n",
      "1  Es impar\n",
      "2  Es par\n",
      "3  Es impar\n",
      "4  Es par\n",
      "5  Es impar\n",
      "6  Es par\n",
      "7  Es impar\n",
      "8  Es par\n",
      "9  Es impar\n",
      "10  Es par\n",
      "11  Es impar\n",
      "12  Es par\n",
      "13  Es impar\n",
      "14  Es par\n",
      "15  Es impar\n",
      "16  Es par\n",
      "17  Es impar\n",
      "18  Es par\n",
      "19  Es impar\n",
      "20  Es par\n"
     ]
    }
   ],
   "source": [
    "for numero in range(0,21):\n",
    "    if numero % 2 == 0:\n",
    "        print(numero, \" Es par\")\n",
    "    else:\n",
    "        print(numero,\" Es impar\")"
   ]
  },
  {
   "attachments": {},
   "cell_type": "markdown",
   "metadata": {},
   "source": [
    "4) En un ciclo for mostrar para los valores entre 0 y 5 el resultado de elevarlo a la potencia igual a 3"
   ]
  },
  {
   "cell_type": "code",
   "execution_count": 5,
   "metadata": {},
   "outputs": [
    {
     "name": "stdout",
     "output_type": "stream",
     "text": [
      "0\n",
      "1\n",
      "8\n",
      "27\n",
      "64\n",
      "125\n"
     ]
    }
   ],
   "source": [
    "for numero in range(0,6):\n",
    "    print(numero**3)"
   ]
  },
  {
   "attachments": {},
   "cell_type": "markdown",
   "metadata": {},
   "source": [
    "5) Crear una variable que contenga un número entero y realizar un ciclo for la misma cantidad de ciclos"
   ]
  },
  {
   "cell_type": "code",
   "execution_count": 7,
   "metadata": {},
   "outputs": [
    {
     "name": "stdout",
     "output_type": "stream",
     "text": [
      "0\n",
      "1\n",
      "2\n",
      "3\n",
      "4\n",
      "5\n",
      "6\n",
      "7\n",
      "8\n",
      "9\n"
     ]
    }
   ],
   "source": [
    "variable3 = 10\n",
    "for numero in range(0, variable3):\n",
    "    print(numero)"
   ]
  },
  {
   "attachments": {},
   "cell_type": "markdown",
   "metadata": {},
   "source": [
    "6) Utilizar un ciclo while para realizar el factorial de un número guardado en una variable, sólo si la variable contiene un número entero mayor a 0"
   ]
  },
  {
   "cell_type": "code",
   "execution_count": 20,
   "metadata": {},
   "outputs": [
    {
     "name": "stdout",
     "output_type": "stream",
     "text": [
      "3\n",
      "2\n",
      "El factorial es 6\n"
     ]
    }
   ],
   "source": [
    "n = 3\n",
    "if (type(n) == int):\n",
    "    if (n > 0):\n",
    "        factorial = n\n",
    "        while (n > 2):\n",
    "            n = n - 1\n",
    "            factorial = factorial * n\n",
    "        print('El factorial es', factorial)\n",
    "    else:\n",
    "        print('La variable no es mayor a cero')\n",
    "else:\n",
    "    print('La variable no es un entero')"
   ]
  },
  {
   "attachments": {},
   "cell_type": "markdown",
   "metadata": {},
   "source": [
    "7) Crear un ciclo for dentro de un ciclo while"
   ]
  },
  {
   "cell_type": "code",
   "execution_count": 24,
   "metadata": {},
   "outputs": [
    {
     "name": "stdout",
     "output_type": "stream",
     "text": [
      "Num while 0\n",
      "Num for 0\n",
      "Num while 1\n",
      "Num for 0\n",
      "Num for 1\n",
      "Num while 2\n",
      "Num for 0\n",
      "Num for 1\n",
      "Num for 2\n",
      "Num while 3\n",
      "Num for 0\n",
      "Num for 1\n",
      "Num for 2\n",
      "Num for 3\n",
      "Num while 4\n",
      "Num for 0\n",
      "Num for 1\n",
      "Num for 2\n",
      "Num for 3\n",
      "Num for 4\n",
      "Num while 5\n",
      "Num for 0\n",
      "Num for 1\n",
      "Num for 2\n",
      "Num for 3\n",
      "Num for 4\n",
      "Num for 5\n",
      "Num while 6\n",
      "Num for 0\n",
      "Num for 1\n",
      "Num for 2\n",
      "Num for 3\n",
      "Num for 4\n",
      "Num for 5\n",
      "Num for 6\n",
      "Num while 7\n",
      "Num for 0\n",
      "Num for 1\n",
      "Num for 2\n",
      "Num for 3\n",
      "Num for 4\n",
      "Num for 5\n",
      "Num for 6\n",
      "Num for 7\n"
     ]
    }
   ],
   "source": [
    "n = 0\n",
    "while n<8:\n",
    "    print(\"Num while\", n)\n",
    "    for i in range(0,n+1):\n",
    "        print(\"Num for\",i)\n",
    "    n+=1"
   ]
  },
  {
   "attachments": {},
   "cell_type": "markdown",
   "metadata": {},
   "source": [
    "8) Crear un ciclo while dentro de un ciclo for"
   ]
  },
  {
   "cell_type": "code",
   "execution_count": 45,
   "metadata": {},
   "outputs": [
    {
     "name": "stdout",
     "output_type": "stream",
     "text": [
      "1.Num while 4 1.Num for 3\n",
      "2.Num while 4 2.Num for 3\n",
      "2.Num while 5 2.Num for 3\n",
      "2.Num while 6 2.Num for 3\n",
      "1.Num while 7 1.Num for 3\n"
     ]
    }
   ],
   "source": [
    "n = 4\n",
    "for i in range(n-1,n):\n",
    "    print(\"1.Num while\",n,\"1.Num for\",i)\n",
    "    while ((n*i)<20):\n",
    "       print(\"2.Num while\",n,\"2.Num for\",i)\n",
    "       n +=1\n",
    "    print(\"1.Num while\",n,\"1.Num for\",i)\n",
    "     "
   ]
  },
  {
   "attachments": {},
   "cell_type": "markdown",
   "metadata": {},
   "source": [
    "9) Imprimir los números primos existentes entre 0 y 30"
   ]
  },
  {
   "cell_type": "code",
   "execution_count": 67,
   "metadata": {},
   "outputs": [
    {
     "name": "stdout",
     "output_type": "stream",
     "text": [
      "3 5 7 11 13 17 19 23 29\n"
     ]
    }
   ],
   "source": [
    "def es_primo(num):\n",
    "    \n",
    "    for i in range(2,num):\n",
    "        if num%i==0: return False\n",
    "    return True\n",
    "\n",
    "def primos_hasta(num):\n",
    "    primos = []\n",
    "    for i in range(3,num+1):\n",
    "        resultado = es_primo(i)\n",
    "        if resultado == True: primos.append(str(i))\n",
    "        \n",
    "    return primos\n",
    "\n",
    "resultado = primos_hasta(30)\n",
    "print(\" \".join(resultado))"
   ]
  },
  {
   "attachments": {},
   "cell_type": "markdown",
   "metadata": {},
   "source": [
    "10) ¿Se puede mejorar el proceso del punto 9? Utilizar las sentencias break y/ó continue para tal fin"
   ]
  },
  {
   "cell_type": "code",
   "execution_count": null,
   "metadata": {},
   "outputs": [],
   "source": []
  },
  {
   "attachments": {},
   "cell_type": "markdown",
   "metadata": {},
   "source": [
    "11) En los puntos 9 y 10, se diseño un código que encuentra números primos y además se lo optimizó. ¿Es posible saber en qué medida se optimizó?"
   ]
  },
  {
   "cell_type": "code",
   "execution_count": null,
   "metadata": {},
   "outputs": [],
   "source": []
  },
  {
   "attachments": {},
   "cell_type": "markdown",
   "metadata": {},
   "source": [
    "12) Aplicando continue, armar un ciclo while que solo imprima los valores divisibles por 12, dentro del rango de números de 100 a 300"
   ]
  },
  {
   "cell_type": "code",
   "execution_count": 79,
   "metadata": {},
   "outputs": [
    {
     "name": "stdout",
     "output_type": "stream",
     "text": [
      "108\n",
      "120\n",
      "132\n",
      "144\n",
      "156\n",
      "168\n",
      "180\n",
      "192\n",
      "204\n",
      "216\n",
      "228\n",
      "240\n",
      "252\n",
      "264\n",
      "276\n",
      "288\n",
      "300\n"
     ]
    }
   ],
   "source": [
    "rango = 100\n",
    "while (rango >= 100 and rango <= 300):\n",
    "    if rango%12 == 0:\n",
    "        print(rango)\n",
    "        rango += 1\n",
    "        continue\n",
    "    rango += 1"
   ]
  },
  {
   "attachments": {},
   "cell_type": "markdown",
   "metadata": {},
   "source": [
    "13) Utilizar la función **input()** que permite hacer ingresos por teclado, para encontrar números primos y dar la opción al usario de buscar el siguiente"
   ]
  },
  {
   "cell_type": "code",
   "execution_count": 91,
   "metadata": {},
   "outputs": [
    {
     "name": "stdout",
     "output_type": "stream",
     "text": [
      "3\n",
      "5\n",
      "7\n",
      "11\n",
      "13\n",
      "17\n",
      "19\n",
      "23\n",
      "29\n"
     ]
    }
   ],
   "source": [
    "def es_primo(num):\n",
    "    \n",
    "    for i in range(2,num):\n",
    "        if num%i==0: return False\n",
    "    return True\n",
    "\n",
    "def primos_hasta(num):\n",
    "    primos = []\n",
    "    for i in range(3,num+1):\n",
    "        resultado = es_primo(i)\n",
    "        if resultado == True: primos.append(str(i))\n",
    "        \n",
    "    return primos\n",
    "\n",
    "\n",
    "def siguiente_primo(texto, turno = 1):\n",
    "    texto = texto.lower()\n",
    "    if texto == \"siguiente\":\n",
    "        print(resultado[turno])\n",
    "        turno += 1\n",
    "    return turno\n",
    "\n",
    "resultado = primos_hasta(int(input(\"Ingresa un número entero mayor a 2\")))\n",
    "print(resultado[0])\n",
    "\n",
    "turno_primos = siguiente_primo(input(\"Escribe 'siguiente' para mostrar el siguiente número primo\"))\n",
    "\n",
    "while turno_primos <= len(resultado)-1:\n",
    "   siguiente_primo(input(\"Escribe siguiente para saber cual es el siguiente número primo\"), turno_primos)\n",
    "   turno_primos += 1\n",
    "\n"
   ]
  },
  {
   "attachments": {},
   "cell_type": "markdown",
   "metadata": {},
   "source": [
    "14) Crear un ciclo while que encuentre dentro del rango de 100 a 300 el primer número divisible por 3 y además múltiplo de 6"
   ]
  },
  {
   "cell_type": "code",
   "execution_count": 105,
   "metadata": {},
   "outputs": [
    {
     "name": "stdout",
     "output_type": "stream",
     "text": [
      "El número es: 102\n",
      "El número es: 108\n",
      "El número es: 114\n",
      "El número es: 120\n",
      "El número es: 126\n",
      "El número es: 132\n",
      "El número es: 138\n",
      "El número es: 144\n",
      "El número es: 150\n",
      "El número es: 156\n",
      "El número es: 162\n",
      "El número es: 168\n",
      "El número es: 174\n",
      "El número es: 180\n",
      "El número es: 186\n",
      "El número es: 192\n",
      "El número es: 198\n",
      "El número es: 204\n",
      "El número es: 210\n",
      "El número es: 216\n",
      "El número es: 222\n",
      "El número es: 228\n",
      "El número es: 234\n",
      "El número es: 240\n",
      "El número es: 246\n",
      "El número es: 252\n",
      "El número es: 258\n",
      "El número es: 264\n",
      "El número es: 270\n",
      "El número es: 276\n",
      "El número es: 282\n",
      "El número es: 288\n",
      "El número es: 294\n",
      "El número es: 300\n"
     ]
    }
   ],
   "source": [
    "rango = 100\n",
    "\n",
    "def es_div_3(n):\n",
    "    if n%3 == 0: return True\n",
    "    return False\n",
    "\n",
    "def es_mul_6(n):\n",
    "    n_text = str(n)\n",
    "    lista_n = []\n",
    "    for digito in n_text: lista_n.append(int(digito)) \n",
    "\n",
    "    div_2 = False\n",
    "    div_3 = False\n",
    "\n",
    "    if n % 6 == 0: \n",
    "        return True\n",
    "    elif sum(lista_n) % 3 == 0: div_3 = True\n",
    "    elif n % 2 == 0: div_2 = True\n",
    "\n",
    "    if (div_2 and div_3): return True \n",
    "    return False\n",
    "\n",
    "while (rango >= 100 and rango <= 300):\n",
    "    rango +=1\n",
    "    div_3 = es_div_3(rango)\n",
    "    mul_6 = es_mul_6(rango) \n",
    "    \n",
    "    if div_3 and mul_6:\n",
    "        print(\"El número es:\",rango)"
   ]
  }
 ],
 "metadata": {
  "interpreter": {
   "hash": "c85384e4cb51c8b72350f3a8712cc8351fdc3955e32a27f9b60c6242ab125f01"
  },
  "kernelspec": {
   "display_name": "Python 3 (ipykernel)",
   "language": "python",
   "name": "python3"
  },
  "language_info": {
   "codemirror_mode": {
    "name": "ipython",
    "version": 3
   },
   "file_extension": ".py",
   "mimetype": "text/x-python",
   "name": "python",
   "nbconvert_exporter": "python",
   "pygments_lexer": "ipython3",
   "version": "3.12.0"
  }
 },
 "nbformat": 4,
 "nbformat_minor": 4
}
