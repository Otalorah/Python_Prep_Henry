{
 "cells": [
  {
   "attachments": {},
   "cell_type": "markdown",
   "metadata": {},
   "source": [
    "## Funciones"
   ]
  },
  {
   "attachments": {},
   "cell_type": "markdown",
   "metadata": {},
   "source": [
    "1) Crear una función que reciba un número como parámetro y devuelva True si es primo y False si no lo es"
   ]
  },
  {
   "cell_type": "code",
   "execution_count": 11,
   "metadata": {},
   "outputs": [
    {
     "name": "stdout",
     "output_type": "stream",
     "text": [
      "True\n"
     ]
    }
   ],
   "source": [
    "def es_primo(n):\n",
    "    for i in range(2,n):\n",
    "        if n%i == 0: return False\n",
    "    return True\n",
    "\n",
    "print(es_primo(19))"
   ]
  },
  {
   "attachments": {},
   "cell_type": "markdown",
   "metadata": {},
   "source": [
    "2) Utilizando la función del punto 1, realizar otra función que reciba de parámetro una lista de números y devuelva sólo aquellos que son primos en otra lista"
   ]
  },
  {
   "cell_type": "code",
   "execution_count": 14,
   "metadata": {},
   "outputs": [
    {
     "name": "stdout",
     "output_type": "stream",
     "text": [
      "[2, 3, 5, 23, 43, 757, 6547]\n"
     ]
    }
   ],
   "source": [
    "def son_primos(lista):\n",
    "\n",
    "    lista_primos = list()\n",
    "\n",
    "    if type(lista) != list: \n",
    "        return \"No es una lista de números\"\n",
    "    else:\n",
    "      for i in lista:\n",
    "          primo = es_primo(i)\n",
    "          if primo: lista_primos.append(i)\n",
    "\n",
    "    lista_primos.sort()\n",
    "\n",
    "    return lista_primos\n",
    "\n",
    "lista = [23,43,54,565,757,788,5,4353,454,6547,56,54,32,2,34,3]\n",
    "print(son_primos(lista))"
   ]
  },
  {
   "attachments": {},
   "cell_type": "markdown",
   "metadata": {},
   "source": [
    "3) Crear una función que al recibir una lista de números, devuelva el que más se repite y cuántas veces lo hace. Si hay más de un \"más repetido\", que devuelva cualquiera"
   ]
  },
  {
   "cell_type": "code",
   "execution_count": 98,
   "metadata": {},
   "outputs": [
    {
     "data": {
      "text/plain": [
       "('3', 5)"
      ]
     },
     "execution_count": 98,
     "metadata": {},
     "output_type": "execute_result"
    }
   ],
   "source": [
    "import random\n",
    "\n",
    "def repeticiones(lista):\n",
    "\n",
    "    numeros = {}\n",
    "\n",
    "    #Verificando si el parametro es un dato tipo lista\n",
    "    if type(lista) != list: \n",
    "        return \"No es una lista de números\"\n",
    "    else:\n",
    "    #Agregando los numeros de la lista a un diccionario para verificar el número de veces que se repite\n",
    "        for num in lista:\n",
    "            if str(num) in numeros: numeros[str(num)] += 1\n",
    "            else: numeros[str(num)] = 1\n",
    "\n",
    "        num_max_repeticiones = []\n",
    "        num_repeticiones_anterior = 0\n",
    "        num_max = 0\n",
    "\n",
    "    #Filtrando los números por los números que tengan mayor número de repeticiones que el número anterior\n",
    "        for n in numeros:\n",
    "            if numeros[n] >= num_repeticiones_anterior:\n",
    "                tupla = (n,numeros[n])\n",
    "                num_max_repeticiones.append(tupla)\n",
    "                num_repeticiones_anterior = numeros[n]\n",
    "    #Filtrando el número que tenga más repeticiones y guardando la cantidad de repeticiones en num_max\n",
    "            if numeros[n] >= num_max: \n",
    "                num_max = numeros[n]\n",
    "        \n",
    "        numeros_max = list()\n",
    "\n",
    "    #Verificando en la lista de los números con más repeticiones cual tiene el valor de num_max\n",
    "        for n in range(len(num_max_repeticiones)):\n",
    "            if num_max_repeticiones[n][1] == num_max: \n",
    "    #Agregando los números que tengan el valor num_max a la lista numeros_max\n",
    "                tupla = (num_max_repeticiones[n])\n",
    "                numeros_max.append(tupla) \n",
    "    #Creando un número entero aleatorio para escojer cualquier número que este en numeros_max \n",
    "        n_random = random.randint(0,len(numeros_max)-1)\n",
    "        return numeros_max[n_random]\n",
    "    \n",
    "lista = [2,2,2,3,4,5,3,2,32,3,45,3,1,1,23,21,2,3,1,1,1]\n",
    "lis = [1,1,5,6,8,10,22,5,6,4,11,9,5]\n",
    "repeticiones(lista)"
   ]
  },
  {
   "attachments": {},
   "cell_type": "markdown",
   "metadata": {},
   "source": [
    "4) Crear una función que convierta entre grados Celsius, Farenheit y Kelvin<br>\n",
    "Fórmula 1\t: (°C × 9/5) + 32 = °F<br>\n",
    "Fórmula 2\t: °C + 273.15 = °K<br>\n",
    "Debe recibir 3 parámetros: el valor, la medida de orígen y la medida de destino\n"
   ]
  },
  {
   "cell_type": "code",
   "execution_count": 100,
   "metadata": {},
   "outputs": [
    {
     "name": "stdout",
     "output_type": "stream",
     "text": [
      "-369.66999999999996°F\n"
     ]
    }
   ],
   "source": [
    "def convertir_grados(valor,origen=\"C\",destino=\"F\"):\n",
    "\n",
    "    origen = origen.lower()\n",
    "    destino = destino.lower()\n",
    "    \n",
    "    # Celsius a Fahrenheit\n",
    "    if origen == \"c\" and destino == \"f\":\n",
    "        valor = (valor*(9/5)) + 32\n",
    "        return str(valor) + \"°F\" \n",
    "    # Fahrenheit a Celsius\n",
    "    elif origen == \"f\" and destino == \"c\":\n",
    "        valor = (valor - 32) * (5/9)\n",
    "        return str(valor) + \"°C\" \n",
    "    # Celsius a Kelvin\n",
    "    elif origen == \"c\" and destino == \"k\":\n",
    "        valor = valor + 273.15\n",
    "        return str(valor) + \"°K\"\n",
    "    # Kelvin a Celsius \n",
    "    elif origen == \"k\" and destino == \"c\":\n",
    "        valor = valor - 273.15\n",
    "        return str(valor) + \"°C\" \n",
    "    # Fahrenheit a Kelvin \n",
    "    elif origen == \"f\" and destino == \"k\":\n",
    "        valor = ((valor - 32) * (5/9)) + 273.15\n",
    "        return str(valor) + \"°K\" \n",
    "    # Kelvin a Fahrenheit\n",
    "    elif origen == \"k\" and destino == \"f\":\n",
    "        valor = ((valor - 273.15) * (9/5)) + 32 \n",
    "        return str(valor) + \"°F\" \n",
    "    #Revisando si los valores de origen y destino son iguales\n",
    "    elif origen == destino: return valor\n",
    "    \n",
    "print(convertir_grados(50,\"k\",\"F\"))"
   ]
  },
  {
   "attachments": {},
   "cell_type": "markdown",
   "metadata": {},
   "source": [
    "5) Iterando una lista con los tres valores posibles de temperatura que recibe la función del punto 5, hacer un print para cada combinación de los mismos:"
   ]
  },
  {
   "cell_type": "code",
   "execution_count": 106,
   "metadata": {},
   "outputs": [
    {
     "name": "stdout",
     "output_type": "stream",
     "text": [
      "Pasar 1°C a 1°C es igual a: 1\n",
      "Pasar 1°C a 1°F es igual a: 33.8°F\n",
      "Pasar 1°C a 1°K es igual a: 274.15°K\n",
      "Pasar 1°F a 1°C es igual a: -17.22222222222222°C\n",
      "Pasar 1°F a 1°F es igual a: 1\n",
      "Pasar 1°F a 1°K es igual a: 255.92777777777775°K\n",
      "Pasar 1°K a 1°C es igual a: -272.15°C\n",
      "Pasar 1°K a 1°F es igual a: -457.86999999999995°F\n",
      "Pasar 1°K a 1°K es igual a: 1\n"
     ]
    }
   ],
   "source": [
    "temperaturas = [\"C\",\"F\",\"K\"]\n",
    "\n",
    "for n in range(len(temperaturas)):\n",
    "    for m in range(len(temperaturas)):\n",
    "        print(\"Pasar 1°\"+temperaturas[n], \"a 1°\"+temperaturas[m], \"es igual a:\",convertir_grados(1,temperaturas[n],temperaturas[m]))"
   ]
  },
  {
   "attachments": {},
   "cell_type": "markdown",
   "metadata": {},
   "source": [
    "6) Armar una función que devuelva el factorial de un número. Tener en cuenta que el usuario puede equivocarse y enviar de parámetro un número no entero o negativo"
   ]
  },
  {
   "cell_type": "code",
   "execution_count": 113,
   "metadata": {},
   "outputs": [],
   "source": [
    "def factorial(n):\n",
    "    #Verificando el dato ingresado por el usuario\n",
    "    if type(n) != int and type(n) != float: return \"Ingresar un número\"\n",
    "    elif n < 0: return \"Ingresar un número positivo\"\n",
    "    elif type(n) == float: return \"Ingresar un número entero\"\n",
    "\n",
    "    if n > 1:\n",
    "        n = n * factorial(n-1)\n",
    "    return n"
   ]
  },
  {
   "cell_type": "code",
   "execution_count": 120,
   "metadata": {},
   "outputs": [
    {
     "name": "stdout",
     "output_type": "stream",
     "text": [
      "2\n",
      "120\n",
      "Ingresar un número positivo\n",
      "Ingresar un número entero\n",
      "Ingresar un número\n"
     ]
    }
   ],
   "source": [
    "print(factorial(2))\n",
    "print(factorial(5))\n",
    "print(factorial(-2))\n",
    "print(factorial(1.23))\n",
    "print(factorial('6'))"
   ]
  }
 ],
 "metadata": {
  "interpreter": {
   "hash": "c85384e4cb51c8b72350f3a8712cc8351fdc3955e32a27f9b60c6242ab125f01"
  },
  "kernelspec": {
   "display_name": "Python 3 (ipykernel)",
   "language": "python",
   "name": "python3"
  },
  "language_info": {
   "codemirror_mode": {
    "name": "ipython",
    "version": 3
   },
   "file_extension": ".py",
   "mimetype": "text/x-python",
   "name": "python",
   "nbconvert_exporter": "python",
   "pygments_lexer": "ipython3",
   "version": "3.12.0"
  }
 },
 "nbformat": 4,
 "nbformat_minor": 4
}
