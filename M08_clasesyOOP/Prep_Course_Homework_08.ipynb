{
 "cells": [
  {
   "attachments": {},
   "cell_type": "markdown",
   "metadata": {},
   "source": [
    "## Clases y Programación Orientada a Objetos"
   ]
  },
  {
   "attachments": {},
   "cell_type": "markdown",
   "metadata": {},
   "source": [
    "1) Crear la clase vehículo que contenga los atributos:<br>\n",
    "Color<br>\n",
    "Si es moto, auto, camioneta ó camión<br>\n",
    "Cilindrada del motor"
   ]
  },
  {
   "cell_type": "code",
   "execution_count": null,
   "metadata": {},
   "outputs": [],
   "source": [
    "class Vehiculo:\n",
    "    def __init__(self,color,tipo,cilindraje):\n",
    "        self.color = color\n",
    "        self.tipo = tipo\n",
    "        self.cilindraje = cilindraje"
   ]
  },
  {
   "attachments": {},
   "cell_type": "markdown",
   "metadata": {},
   "source": [
    "2) A la clase Vehiculo creada en el punto 1, agregar los siguientes métodos:<br>\n",
    "Acelerar<br>\n",
    "Frenar<br>\n",
    "Doblar<br>"
   ]
  },
  {
   "cell_type": "code",
   "execution_count": 21,
   "metadata": {},
   "outputs": [],
   "source": [
    "class Vehiculo:\n",
    "    def __init__(self,color,tipo,cilindraje):\n",
    "        self.color = color\n",
    "        self.tipo = tipo\n",
    "        self.velocidad = 0\n",
    "        self.direccion = 0\n",
    "        if tipo.lower() == \"moto\": self.cilindraje = cilindraje + \"cc\"\n",
    "        else: self.cilindraje = cilindraje + \"L\"\n",
    "\n",
    "    def acelerar(self):\n",
    "        self.velocidad += 1 \n",
    "\n",
    "    def frenar(self):\n",
    "        self.velocidad -= 1 \n",
    "\n",
    "    def doblar(self):\n",
    "        self.direccion += 1 \n"
   ]
  },
  {
   "attachments": {},
   "cell_type": "markdown",
   "metadata": {},
   "source": [
    "3) Instanciar 3 objetos de la clase vehículo y ejecutar sus métodos, probar luego el resultado"
   ]
  },
  {
   "cell_type": "code",
   "execution_count": 22,
   "metadata": {},
   "outputs": [
    {
     "data": {
      "text/plain": [
       "<bound method Vehiculo.doblar of <__main__.Vehiculo object at 0x000001F011042B70>>"
      ]
     },
     "execution_count": 22,
     "metadata": {},
     "output_type": "execute_result"
    }
   ],
   "source": [
    "moto = Vehiculo(\"Rojo\", \"Moto\", \"250\")\n",
    "carro = Vehiculo(\"Gris\", \"Carro\", \"1.6\")\n",
    "camion = Vehiculo(\"Blanco\", \"Camion\", \"12\")\n",
    "\n",
    "moto.acelerar\n",
    "carro.frenar\n",
    "camion.doblar"
   ]
  },
  {
   "attachments": {},
   "cell_type": "markdown",
   "metadata": {},
   "source": [
    "4) Agregar a la clase Vehiculo, un método que muestre su estado, es decir, a que velocidad se encuentra y su dirección. Y otro método que muestre color, tipo y cilindrada"
   ]
  },
  {
   "cell_type": "code",
   "execution_count": 30,
   "metadata": {},
   "outputs": [],
   "source": [
    "class Vehiculo:\n",
    "    def __init__(self,color,tipo,cilindraje):\n",
    "        self.color = color\n",
    "        self.tipo = tipo\n",
    "        self.velocidad = 0\n",
    "        self.direccion = \"norte\"\n",
    "        if tipo.lower() == \"moto\": self.cilindraje = cilindraje + \"cc\"\n",
    "        else: self.cilindraje = cilindraje + \"L\"\n",
    "\n",
    "    def acelerar(self):\n",
    "        self.velocidad += 1 \n",
    "\n",
    "    def frenar(self):\n",
    "        self.velocidad -= 1 \n",
    "\n",
    "    def doblar(self):\n",
    "        if self.direccion == \"norte\": self.direccion = \"oriente\" \n",
    "        elif self.direccion == \"oriente\": self.direccion = \"sur\"\n",
    "        elif self.direccion == \"sur\": self.direccion = \"occidente\" \n",
    "        elif self.direccion == \"occidente\": self.direccion = \"norte\" \n",
    "\n",
    "    def mostrar_estado(self):\n",
    "        print(f\"El vehiculo va a una velocidad de {self.velocidad} m/s y se dirige hacia el {self.direccion}\")\n",
    "\n",
    "    def mostrar_caracteristicas(self):\n",
    "        print(f\"El vehiculo es un/a {self.tipo}, de color {self.color}, con un cilindraje de {self.cilindraje}\")"
   ]
  },
  {
   "cell_type": "code",
   "execution_count": 32,
   "metadata": {},
   "outputs": [
    {
     "name": "stdout",
     "output_type": "stream",
     "text": [
      "El vehiculo va a una velocidad de 0 m/s y se dirige hacia el norte\n",
      "El vehiculo va a una velocidad de 20 m/s y se dirige hacia el norte\n",
      "El vehiculo es un/a Carro, de color Gris, con un cilindraje de 1.6L\n"
     ]
    }
   ],
   "source": [
    "moto = Vehiculo(\"Rojo\", \"Moto\", \"250\")\n",
    "carro = Vehiculo(\"Gris\", \"Carro\", \"1.6\")\n",
    "camion = Vehiculo(\"Blanco\", \"Camion\", \"12\")\n",
    "\n",
    "moto.mostrar_estado()\n",
    "for i in range(20):\n",
    "    moto.acelerar()\n",
    "moto.mostrar_estado()\n",
    "carro.mostrar_caracteristicas()"
   ]
  },
  {
   "attachments": {},
   "cell_type": "markdown",
   "metadata": {},
   "source": [
    "5) Crear una clase que permita utilizar las funciones creadas en la práctica del módulo 7<br>\n",
    "Verificar Primo<br>\n",
    "Valor modal<br>\n",
    "Conversión grados<br>\n",
    "Factorial<br>"
   ]
  },
  {
   "cell_type": "code",
   "execution_count": 63,
   "metadata": {},
   "outputs": [],
   "source": [
    "import random\n",
    "#Se establecen las funciones en un contexto global\n",
    "def es_primo(n):\n",
    "    for i in range(2,n):\n",
    "        if n%i == 0: return False\n",
    "    return True\n",
    "\n",
    "    lista_primos = list()\n",
    "\n",
    "    if type(lista) != list: \n",
    "        return \"No es una lista de números\"\n",
    "    else:\n",
    "      for i in lista:\n",
    "          primo = es_primo(i)\n",
    "          if primo: lista_primos.append(i)\n",
    "\n",
    "    lista_primos.sort()\n",
    "\n",
    "    return lista_primos\n",
    "\n",
    "def son_primos(lista):\n",
    "\n",
    "    lista_primos = list()\n",
    "\n",
    "    if type(lista) != list: \n",
    "        return \"No es una lista de números\"\n",
    "    else:\n",
    "      for i in lista:\n",
    "          primo = es_primo(i)\n",
    "          if primo: lista_primos.append(i)\n",
    "\n",
    "    lista_primos.sort()\n",
    "\n",
    "    return lista_primos\n",
    "\n",
    "def repeticiones(lista):\n",
    "\n",
    "    numeros = {}\n",
    "\n",
    "    #Verificando si el parametro es un dato tipo lista\n",
    "    if type(lista) != list: \n",
    "        return \"No es una lista de números\"\n",
    "    else:\n",
    "    #Agregando los numeros de la lista a un diccionario para verificar el número de veces que se repite\n",
    "        for num in lista:\n",
    "            if str(num) in numeros: numeros[str(num)] += 1\n",
    "            else: numeros[str(num)] = 1\n",
    "\n",
    "        num_max_repeticiones = []\n",
    "        num_repeticiones_anterior = 0\n",
    "        num_max = 0\n",
    "\n",
    "    #Filtrando los números por los números que tengan mayor número de repeticiones que el número anterior\n",
    "        for n in numeros:\n",
    "            if numeros[n] >= num_repeticiones_anterior:\n",
    "                tupla = (n,numeros[n])\n",
    "                num_max_repeticiones.append(tupla)\n",
    "                num_repeticiones_anterior = numeros[n]\n",
    "    #Filtrando el número que tenga más repeticiones y guardando la cantidad de repeticiones en num_max\n",
    "            if numeros[n] >= num_max: \n",
    "                num_max = numeros[n]\n",
    "        \n",
    "        numeros_max = list()\n",
    "\n",
    "    #Verificando en la lista de los números con más repeticiones cual tiene el valor de num_max\n",
    "        for n in range(len(num_max_repeticiones)):\n",
    "            if num_max_repeticiones[n][1] == num_max: \n",
    "    #Agregando los números que tengan el valor num_max a la lista numeros_max\n",
    "                tupla = (num_max_repeticiones[n])\n",
    "                numeros_max.append(tupla) \n",
    "    #Creando un número entero aleatorio para escojer cualquier número que este en numeros_max \n",
    "        n_random = random.randint(0,len(numeros_max)-1)\n",
    "        return numeros_max[n_random]\n",
    "\n",
    "def convertir_grados(n):\n",
    "    # Celsius a Fahrenheit\n",
    "    valorCF = (n*(9/5)) + 32\n",
    "    texto = f\" | {n}°C son {valorCF}°F  |\"\n",
    "    # Celsius a Kelvin\n",
    "    valorCK = n + 273.15\n",
    "    texto2 = f\" | {n}°C son {valorCK}°K  |\"\n",
    "    # Fahrenheit a Kelvin \n",
    "    valorFK = ((n - 32) * (5/9)) + 273.15\n",
    "    texto3 = f\" | {n}°F son {valorFK}°K  |\"\n",
    "\n",
    "    return [texto,texto2,texto3]\n",
    "\n",
    "def factorial(n):\n",
    "    if n > 1:\n",
    "        n = n * factorial(n-1)\n",
    "    return n\n",
    "\n",
    "class Numeros():\n",
    "    '''\n",
    "    |\n",
    "    |  Numeros(int)\n",
    "    |  Recibe un entero \n",
    "    |  \n",
    "    |  Genera una lista con la cantidad de elementos igual al entero recibido\n",
    "    |\n",
    "    '''\n",
    "    def __init__(self,valor):\n",
    "        self.valor = valor\n",
    "        #A partir del valor ingresado se crea una lista \n",
    "        self.lista = list()\n",
    "        for i in range(valor):\n",
    "            i = round(random.randint(0,i))\n",
    "            self.lista.append(i)\n",
    "\n",
    "    def lista_primos(self):\n",
    "        primos = set(son_primos(self.lista))\n",
    "        return list(primos)\n",
    "\n",
    "    def valor_modal(self):\n",
    "        return repeticiones(self.lista)\n",
    "\n",
    "    def pasar_a_grados(self):\n",
    "        texto = \"\"\n",
    "        for n in convertir_grados(self.valor):\n",
    "            texto += n\n",
    "        return texto  \n",
    "    \n",
    "    def _factorial(self):\n",
    "        return factorial(self.valor)\n",
    "\n"
   ]
  },
  {
   "attachments": {},
   "cell_type": "markdown",
   "metadata": {},
   "source": [
    "6) Probar las funciones incorporadas en la clase del punto 5"
   ]
  },
  {
   "cell_type": "code",
   "execution_count": 90,
   "metadata": {},
   "outputs": [
    {
     "name": "stdout",
     "output_type": "stream",
     "text": [
      "[0, 1, 1, 2, 2, 3, 5, 5, 3]\n",
      "[0, 1, 2, 3, 5]\n",
      " | 9°C son 48.2°F  | | 9°C son 282.15°K  | | 9°F son 260.3722222222222°K  |\n",
      "362880\n"
     ]
    }
   ],
   "source": [
    "num = Numeros(9)\n",
    "lista_num = num.lista\n",
    "lista_primos_num = num.lista_primos()\n",
    "grados_num = num.pasar_a_grados()\n",
    "factorial_num = num._factorial()\n",
    "\n",
    "print(lista_num)\n",
    "print(lista_primos_num)\n",
    "print(grados_num)\n",
    "print(factorial_num)\n"
   ]
  },
  {
   "attachments": {},
   "cell_type": "markdown",
   "metadata": {},
   "source": [
    "7) Es necesario que la clase creada en el punto 5 contenga una lista, sobre la cual se apliquen las funciones incorporadas"
   ]
  },
  {
   "cell_type": "code",
   "execution_count": null,
   "metadata": {},
   "outputs": [],
   "source": []
  },
  {
   "attachments": {},
   "cell_type": "markdown",
   "metadata": {},
   "source": [
    "8) Crear un archivo .py aparte y ubicar allí la clase generada en el punto anterior. Luego realizar la importación del módulo y probar alguna de sus funciones"
   ]
  },
  {
   "cell_type": "code",
   "execution_count": 91,
   "metadata": {},
   "outputs": [
    {
     "name": "stdout",
     "output_type": "stream",
     "text": [
      "[0, 0, 2, 1, 0]\n",
      " | 5°C son 41.0°F  | | 5°C son 278.15°K  | | 5°F son 258.15°K  |\n"
     ]
    }
   ],
   "source": [
    "import Numeros as nrs\n",
    "\n",
    "numero = nrs.Numeros(5)\n",
    "lista_numero = numero.lista\n",
    "grados_numero = numero.pasar_a_grados()\n",
    "\n",
    "print(lista_numero)\n",
    "print(grados_numero)"
   ]
  }
 ],
 "metadata": {
  "interpreter": {
   "hash": "c85384e4cb51c8b72350f3a8712cc8351fdc3955e32a27f9b60c6242ab125f01"
  },
  "kernelspec": {
   "display_name": "Python 3 (ipykernel)",
   "language": "python",
   "name": "python3"
  },
  "language_info": {
   "codemirror_mode": {
    "name": "ipython",
    "version": 3
   },
   "file_extension": ".py",
   "mimetype": "text/x-python",
   "name": "python",
   "nbconvert_exporter": "python",
   "pygments_lexer": "ipython3",
   "version": "3.12.0"
  }
 },
 "nbformat": 4,
 "nbformat_minor": 4
}
