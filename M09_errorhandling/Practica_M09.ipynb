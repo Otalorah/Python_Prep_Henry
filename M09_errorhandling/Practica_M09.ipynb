{
 "cells": [
  {
   "cell_type": "code",
   "execution_count": 1,
   "metadata": {},
   "outputs": [],
   "source": [
    "import unittest"
   ]
  },
  {
   "cell_type": "code",
   "execution_count": 14,
   "metadata": {},
   "outputs": [],
   "source": [
    "def primera_letra(lista):\n",
    "  primeras_letras = []\n",
    "\n",
    "  for palabra in lista:\n",
    "    if not type(palabra) == str: print(f'{palabra} no es un string')\n",
    "    assert type(palabra) == str, f'{palabra} no es str'\n",
    "    assert len(palabra) > 0, 'No se permiten str vacíos'\n",
    "\n",
    "    primeras_letras.append(palabra[0])\n",
    "  return primeras_letras"
   ]
  },
  {
   "cell_type": "code",
   "execution_count": 15,
   "metadata": {},
   "outputs": [
    {
     "data": {
      "text/plain": [
       "['c', 'e', 'h', 'o']"
      ]
     },
     "execution_count": 15,
     "metadata": {},
     "output_type": "execute_result"
    }
   ],
   "source": [
    "palabras = list({\"hola\",\"como\",\"estas\",\"oractica\"})\n",
    "\n",
    "primera_letra(palabras)"
   ]
  },
  {
   "cell_type": "code",
   "execution_count": 21,
   "metadata": {},
   "outputs": [
    {
     "data": {
      "text/plain": [
       "(2, 4)"
      ]
     },
     "execution_count": 21,
     "metadata": {},
     "output_type": "execute_result"
    }
   ],
   "source": [
    "import random\n",
    "\n",
    "def repeticiones(lista):\n",
    "    if not isinstance(lista, list): raise ValueError(\"El argumento proporcionado no es una lista.\")\n",
    "\n",
    "    numeros = {}\n",
    "    for num in lista:\n",
    "        if not isinstance(num, int): raise ValueError(f\"El elemento {num} no es un número entero.\")\n",
    "        numeros[num] = numeros.get(num, 0) + 1\n",
    "\n",
    "    if not numeros:\n",
    "        return None\n",
    "\n",
    "    max_repeticiones = max(numeros.values())\n",
    "    numeros_max = [num for num, rep in numeros.items() if rep == max_repeticiones]\n",
    "\n",
    "    return random.choice(numeros_max), max_repeticiones\n",
    "\n",
    "# Ejemplo de uso\n",
    "lista = [2, 2, 2, 3,3, 4, 3, 2, 3, 1, 1]\n",
    "repeticiones(lista)\n"
   ]
  },
  {
   "cell_type": "code",
   "execution_count": null,
   "metadata": {},
   "outputs": [],
   "source": [
    "def convertir_grados(valor,origen=\"C\",destino=\"F\"):\n",
    "    \n",
    "    assert type(valor) == int or type(valor) == float, f\"{valor} no es un número.\" \n",
    "\n",
    "    origen = origen.lower()\n",
    "    destino = destino.lower()\n",
    "    \n",
    "    # Celsius a Fahrenheit\n",
    "    if origen == \"c\" and destino == \"f\":\n",
    "        valor = (valor*(9/5)) + 32\n",
    "        return str(valor) + \"°F\" \n",
    "    # Fahrenheit a Celsius\n",
    "    elif origen == \"f\" and destino == \"c\":\n",
    "        valor = (valor - 32) * (5/9)\n",
    "        return str(valor) + \"°C\" \n",
    "    # Celsius a Kelvin\n",
    "    elif origen == \"c\" and destino == \"k\":\n",
    "        valor = valor + 273.15\n",
    "        return str(valor) + \"°K\"\n",
    "    # Kelvin a Celsius \n",
    "    elif origen == \"k\" and destino == \"c\":\n",
    "        valor = valor - 273.15\n",
    "        return str(valor) + \"°C\" \n",
    "    # Fahrenheit a Kelvin \n",
    "    elif origen == \"f\" and destino == \"k\":\n",
    "        valor = ((valor - 32) * (5/9)) + 273.15\n",
    "        return str(valor) + \"°K\" \n",
    "    # Kelvin a Fahrenheit\n",
    "    elif origen == \"k\" and destino == \"f\":\n",
    "        valor = ((valor - 273.15) * (9/5)) + 32 \n",
    "        return str(valor) + \"°F\" \n",
    "    #Revisando si los valores de origen y destino son iguales\n",
    "    elif origen == destino: return valor\n",
    "    \n",
    "convertir_grados(5,\"k\",\"F\")"
   ]
  },
  {
   "cell_type": "code",
   "execution_count": 9,
   "metadata": {},
   "outputs": [
    {
     "data": {
      "text/plain": [
       "-223.14999999999998"
      ]
     },
     "execution_count": 9,
     "metadata": {},
     "output_type": "execute_result"
    }
   ],
   "source": [
    "def convertir_grados(valor,origen=\"C\",destino=\"F\"):\n",
    "    \n",
    "    assert type(valor) == int or type(valor) == float, f\"{valor} no es un número.\" \n",
    "\n",
    "    origen = origen.lower()\n",
    "    destino = destino.lower()\n",
    "    \n",
    "    expresiones = {\"cf\":(valor*(9/5)) + 32,\"fc\":(valor - 32) * (5/9),\"ck\":valor + 273.15,\n",
    "                   \"kc\":valor - 273.15,\"fk\":((valor - 32) * (5/9)) + 273.15,\n",
    "                   \"kf\":((valor - 273.15) * (9/5)) + 32 }\n",
    "    \n",
    "    for n in expresiones:\n",
    "        if n == origen + destino: return expresiones[n]\n",
    "   \n",
    "    \n",
    "convertir_grados(50,\"k\",\"c\")\n",
    "    "
   ]
  }
 ],
 "metadata": {
  "kernelspec": {
   "display_name": "Python 3",
   "language": "python",
   "name": "python3"
  },
  "language_info": {
   "codemirror_mode": {
    "name": "ipython",
    "version": 3
   },
   "file_extension": ".py",
   "mimetype": "text/x-python",
   "name": "python",
   "nbconvert_exporter": "python",
   "pygments_lexer": "ipython3",
   "version": "3.12.0"
  }
 },
 "nbformat": 4,
 "nbformat_minor": 2
}
