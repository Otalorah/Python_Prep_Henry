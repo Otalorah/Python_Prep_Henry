{
 "cells": [
  {
   "attachments": {},
   "cell_type": "markdown",
   "metadata": {},
   "source": [
    "## Manejo de errores"
   ]
  },
  {
   "attachments": {},
   "cell_type": "markdown",
   "metadata": {},
   "source": [
    "1) Con la clase creada en el módulo 7, tener en cuenta diferentes casos en que el código pudiera arrojar error. Por ejemplo, en la creación del objeto recibimos una lista de números enteros pero ¿qué pasa si se envía otro tipo de dato?"
   ]
  },
  {
   "cell_type": "code",
   "execution_count": 70,
   "metadata": {},
   "outputs": [
    {
     "data": {
      "text/plain": [
       "(2, 5)"
      ]
     },
     "execution_count": 70,
     "metadata": {},
     "output_type": "execute_result"
    }
   ],
   "source": [
    "import random\n",
    "\n",
    "def repeticiones(lista):\n",
    "\n",
    "    numeros = {}\n",
    "\n",
    "    #Verificando si el parametro es un dato tipo lista\n",
    "    try:\n",
    "        assert type(lista) == list\n",
    "    except AssertionError:\n",
    "        return \"No es una lista\"\n",
    "    #Agregando los numeros de la lista a un diccionario para verificar el número de veces que se repite\n",
    "    for num in lista:\n",
    "        try:\n",
    "            assert type(num) == int\n",
    "            if num in numeros: numeros[num] += 1\n",
    "            else: numeros[num] = 1\n",
    "        except AssertionError:\n",
    "            return f\"El elemento {num} no es un número entero\" \n",
    "        \n",
    "\n",
    "    num_max_repeticiones = []\n",
    "    num_repeticiones_anterior = 0\n",
    "    num_max = 0\n",
    "\n",
    "    #Filtrando los números por los números que tengan mayor número de repeticiones que el número anterior\n",
    "    for n in numeros:\n",
    "        if numeros[n] >= num_repeticiones_anterior:\n",
    "    #Creando un tupla con el número y la cantidad de repeticiones\n",
    "            tupla = (n,numeros[n])\n",
    "            num_max_repeticiones.append(tupla)\n",
    "    #Actualizando el valor de repeticiones para el siguiente número\n",
    "            num_repeticiones_anterior = numeros[n]\n",
    "    #Filtrando el número que tenga más repeticiones y guardando la cantidad de repeticiones en num_max\n",
    "        if numeros[n] >= num_max: \n",
    "            num_max = numeros[n]\n",
    "        \n",
    "    numeros_max = list()\n",
    "\n",
    "    #Verificando en la lista de los números con más repeticiones cual tiene el valor de num_max\n",
    "    for i,n in enumerate(num_max_repeticiones):\n",
    "         if num_max_repeticiones[i][1] == num_max: \n",
    "    #Agregando los números que tengan el valor num_max a la lista numeros_max\n",
    "            tupla = (num_max_repeticiones[i])\n",
    "            numeros_max.append(tupla) \n",
    "    #Creando un número entero aleatorio para escojer cualquier número que este en numeros_max \n",
    "    n_random = random.randint(0,len(numeros_max)-1)\n",
    "    return numeros_max[n_random]\n",
    "    \n",
    "lista = [2,2,2,3,4,5,3,2,32,3,45,3,1,1,23,2,3,1,1,1]\n",
    "lis = [1,1,5,6,8,10,22,5,6,4,11,9,5]\n",
    "repeticiones(lista)"
   ]
  },
  {
   "cell_type": "code",
   "execution_count": 5,
   "metadata": {},
   "outputs": [
    {
     "name": "stdout",
     "output_type": "stream",
     "text": [
      "[True, True, True, True, True, False, False, False, False, False, True, True, True, True, True]\n",
      "[True, True, True, True, True, True, True, True, True, True, False, True, False, True, False]\n"
     ]
    }
   ],
   "source": [
    "import numeros as n\n",
    "import importlib\n",
    "importlib.reload(n)\n",
    "num = n.Numeros(7)"
   ]
  },
  {
   "attachments": {},
   "cell_type": "markdown",
   "metadata": {},
   "source": [
    "2) En la función que hace la conversión de grados, validar que los parámetros enviados sean los esperados, de no serlo, informar cuáles son los valores esperados."
   ]
  },
  {
   "cell_type": "code",
   "execution_count": 4,
   "metadata": {},
   "outputs": [
    {
     "data": {
      "text/plain": [
       "303.15"
      ]
     },
     "execution_count": 4,
     "metadata": {},
     "output_type": "execute_result"
    }
   ],
   "source": [
    "def convertir_grados(valor,origen=\"C\",destino=\"F\"):\n",
    "\n",
    "    assert type(valor) == int or type(valor) == float, f\"{valor} debe ser un número.\"\n",
    "    assert type(origen) == str and type(destino) == str, \"Se deben proporcionar str en las unidades métricas\"\n",
    "    \n",
    "    origen = origen[0].lower()\n",
    "    destino = destino[0].lower()\n",
    "    union = origen + destino\n",
    "    \n",
    "    expresiones = {\"cf\":(valor*(9/5)) + 32,\"cc\":valor,\"ff\":valor,\"kk\":valor,\n",
    "                   \"fc\":(valor - 32) * (5/9),\"ck\":valor + 273.15,\n",
    "                   \"kc\":valor - 273.15,\"fk\":((valor - 32) * (5/9)) + 273.15,\n",
    "                   \"kf\":((valor - 273.15) * (9/5)) + 32 }\n",
    "    \n",
    "    assert union in expresiones,\"No son grados validos.\"\n",
    "\n",
    "    for n in expresiones:\n",
    "        if n == union: return expresiones[n]\n",
    "   \n",
    "    \n",
    "convertir_grados(30,\"ca\",\"ke\")"
   ]
  },
  {
   "attachments": {},
   "cell_type": "markdown",
   "metadata": {},
   "source": [
    "3) Importar el modulo \"unittest\" y crear los siguientes casos de pruebas sobre la clase utilizada en el punto 2<br>\n",
    "Creacion del objeto incorrecta<br>\n",
    "Creacion correcta del objeto<br>\n",
    "Metodo valor_modal()<br>\n",
    "\n",
    "Se puede usar \"raise ValueError()\" en la creación de la clase para verificar el error. Investigar sobre esta funcionalidad."
   ]
  },
  {
   "cell_type": "code",
   "execution_count": 219,
   "metadata": {},
   "outputs": [
    {
     "name": "stderr",
     "output_type": "stream",
     "text": [
      "test_Creacion_Objeto_incorrecta (__main__.Test_convertir_grados.test_Creacion_Objeto_incorrecta) ... ok\n",
      "test_creacion_objeto_correcta (__main__.Test_convertir_grados.test_creacion_objeto_correcta) ... ok\n",
      "test_metodo_valor_modal (__main__.Test_convertir_grados.test_metodo_valor_modal) ... ok\n",
      "\n",
      "----------------------------------------------------------------------\n",
      "Ran 3 tests in 0.010s\n",
      "\n",
      "OK\n"
     ]
    },
    {
     "name": "stdout",
     "output_type": "stream",
     "text": [
      "5 0 5\n"
     ]
    },
    {
     "data": {
      "text/plain": [
       "<unittest.main.TestProgram at 0x1ceb2c23e60>"
      ]
     },
     "execution_count": 219,
     "metadata": {},
     "output_type": "execute_result"
    }
   ],
   "source": [
    "import unittest\n",
    "\n",
    "class Test_convertir_grados(unittest.TestCase):\n",
    "    \n",
    "    def test_Creacion_Objeto_incorrecta(self):\n",
    "\n",
    "        parametro =\"hola\"\n",
    "\n",
    "        self.assertRaises(ValueError, n.Numeros, parametro)\n",
    "\n",
    "    def test_creacion_objeto_correcta(self):\n",
    "        p = 56\n",
    "        num = n.Numeros(p)\n",
    "        self.assertEqual(p,len(num.lista))\n",
    "        n.Numeros\n",
    "\n",
    "    def test_metodo_valor_modal(self):\n",
    "        \n",
    "        num = n.Numeros(30)\n",
    "        lis = num.lista\n",
    "        v,r = num.valor_modal()\n",
    "        repe = 0\n",
    "        for i in lis:\n",
    "            if i == int(v): repe += 1\n",
    "        self.assertEqual(r,repe)\n",
    "        \n",
    "unittest.main(argv=[''], verbosity=2, exit=False)"
   ]
  },
  {
   "attachments": {},
   "cell_type": "markdown",
   "metadata": {},
   "source": [
    "4) Probar una creación incorrecta y visualizar la salida del \"raise\""
   ]
  },
  {
   "cell_type": "code",
   "execution_count": 220,
   "metadata": {},
   "outputs": [
    {
     "ename": "ValueError",
     "evalue": "Se espera un número entero como parámetro",
     "output_type": "error",
     "traceback": [
      "\u001b[1;31m---------------------------------------------------------------------------\u001b[0m",
      "\u001b[1;31mValueError\u001b[0m                                Traceback (most recent call last)",
      "Cell \u001b[1;32mIn[220], line 1\u001b[0m\n\u001b[1;32m----> 1\u001b[0m num \u001b[38;5;241m=\u001b[39m \u001b[43mn\u001b[49m\u001b[38;5;241;43m.\u001b[39;49m\u001b[43mNumeros\u001b[49m\u001b[43m(\u001b[49m\u001b[38;5;124;43m\"\u001b[39;49m\u001b[38;5;124;43mHOla\u001b[39;49m\u001b[38;5;124;43m\"\u001b[39;49m\u001b[43m)\u001b[49m\n",
      "File \u001b[1;32mc:\\Users\\juanm\\OneDrive\\Desktop\\Otalorin\\Henry\\Repositorio_Henry_Python\\M09_errorhandling\\numeros.py:108\u001b[0m, in \u001b[0;36mNumeros.__init__\u001b[1;34m(self, valor)\u001b[0m\n\u001b[0;32m    106\u001b[0m      i \u001b[38;5;241m=\u001b[39m \u001b[38;5;28mround\u001b[39m(random\u001b[38;5;241m.\u001b[39mrandint(\u001b[38;5;241m0\u001b[39m, i\u001b[38;5;241m+\u001b[39m\u001b[38;5;241m1\u001b[39m))\n\u001b[0;32m    107\u001b[0m      \u001b[38;5;28mself\u001b[39m\u001b[38;5;241m.\u001b[39mlista\u001b[38;5;241m.\u001b[39mappend(i)\n\u001b[1;32m--> 108\u001b[0m \u001b[38;5;28;01melse\u001b[39;00m : \u001b[38;5;28;01mraise\u001b[39;00m \u001b[38;5;167;01mValueError\u001b[39;00m(\u001b[38;5;124m\"\u001b[39m\u001b[38;5;124mSe espera un número entero como parámetro\u001b[39m\u001b[38;5;124m\"\u001b[39m)\n",
      "\u001b[1;31mValueError\u001b[0m: Se espera un número entero como parámetro"
     ]
    }
   ],
   "source": [
    "num = n.Numeros(\"HOla\")"
   ]
  },
  {
   "attachments": {},
   "cell_type": "markdown",
   "metadata": {},
   "source": [
    "6) Agregar casos de pruebas para el método verifica_primos() realizando el cambio en la clase, para que devuelva una lista de True o False en función de que el elemento en la posisicón sea o no primo"
   ]
  },
  {
   "cell_type": "code",
   "execution_count": 16,
   "metadata": {},
   "outputs": [],
   "source": [
    "import unittest\n",
    "\n",
    "class ProbandoMiClase2(unittest.TestCase):\n",
    "\n",
    "    def test_verifica_primos1(self):\n",
    "        lis = [2,3,8,10,13]\n",
    "        n1 = n.Numeros(10)\n",
    "        n1.lista = lis\n",
    "        primos = n1.lista_primos()\n",
    "        primos_esperado = [True, True, False, False, True]\n",
    "        self.assertEqual(primos, primos_esperado)"
   ]
  },
  {
   "cell_type": "code",
   "execution_count": 17,
   "metadata": {},
   "outputs": [
    {
     "name": "stderr",
     "output_type": "stream",
     "text": [
      "test_verifica_primos1 (__main__.ProbandoMiClase2.test_verifica_primos1) ... ok\n",
      "\n",
      "----------------------------------------------------------------------\n",
      "Ran 1 test in 0.005s\n",
      "\n",
      "OK\n"
     ]
    },
    {
     "data": {
      "text/plain": [
       "<unittest.main.TestProgram at 0x1d1d0de10a0>"
      ]
     },
     "execution_count": 17,
     "metadata": {},
     "output_type": "execute_result"
    }
   ],
   "source": [
    "unittest.main(argv=[''], verbosity=2, exit=False)"
   ]
  },
  {
   "attachments": {},
   "cell_type": "markdown",
   "metadata": {},
   "source": [
    "7) Agregar casos de pruebas para el método conversion_grados()"
   ]
  },
  {
   "cell_type": "code",
   "execution_count": 32,
   "metadata": {},
   "outputs": [],
   "source": [
    "class ProbandoMiClase2(unittest.TestCase):\n",
    "\n",
    "    def test_verifica_conversion_grados(self):\n",
    "        n1 = n.Numeros(10)\n",
    "        grados = n1.pasar_a_grados()\n",
    "        texto_esperado = \" | 10°C son 50.0°F  | | 10°C son 283.15°K  | | 10°F son 260.92777777777775°K  |\"\n",
    "        self.assertEqual(grados, texto_esperado)"
   ]
  },
  {
   "cell_type": "code",
   "execution_count": 33,
   "metadata": {},
   "outputs": [
    {
     "name": "stderr",
     "output_type": "stream",
     "text": [
      "test_verifica_conversion_grados (__main__.ProbandoMiClase2.test_verifica_conversion_grados) ... ok\n",
      "\n",
      "----------------------------------------------------------------------\n",
      "Ran 1 test in 0.003s\n",
      "\n",
      "OK\n"
     ]
    },
    {
     "data": {
      "text/plain": [
       "<unittest.main.TestProgram at 0x1d1d0e00dd0>"
      ]
     },
     "execution_count": 33,
     "metadata": {},
     "output_type": "execute_result"
    }
   ],
   "source": [
    "unittest.main(argv=[''], verbosity=2, exit=False)"
   ]
  },
  {
   "attachments": {},
   "cell_type": "markdown",
   "metadata": {},
   "source": [
    "8) Agregar casos de pruebas para el método factorial()"
   ]
  },
  {
   "cell_type": "code",
   "execution_count": 34,
   "metadata": {},
   "outputs": [],
   "source": [
    "class ProbandoMiClase3(unittest.TestCase):\n",
    "\n",
    "    def test_verifica_factorial(self):\n",
    "        n1 = n.Numeros(5)\n",
    "        factorial = n1._factorial()\n",
    "        valor_esperado = 120\n",
    "        self.assertEqual(factorial, valor_esperado)"
   ]
  },
  {
   "cell_type": "code",
   "execution_count": 35,
   "metadata": {},
   "outputs": [
    {
     "name": "stderr",
     "output_type": "stream",
     "text": [
      "test_verifica_conversion_grados (__main__.ProbandoMiClase2.test_verifica_conversion_grados) ... ok\n",
      "test_verifica_factorial (__main__.ProbandoMiClase3.test_verifica_factorial) ... ok\n",
      "\n",
      "----------------------------------------------------------------------\n",
      "Ran 2 tests in 0.007s\n",
      "\n",
      "OK\n"
     ]
    },
    {
     "data": {
      "text/plain": [
       "<unittest.main.TestProgram at 0x1d1d0de0500>"
      ]
     },
     "execution_count": 35,
     "metadata": {},
     "output_type": "execute_result"
    }
   ],
   "source": [
    "unittest.main(argv=[''], verbosity=2, exit=False)"
   ]
  }
 ],
 "metadata": {
  "interpreter": {
   "hash": "c85384e4cb51c8b72350f3a8712cc8351fdc3955e32a27f9b60c6242ab125f01"
  },
  "kernelspec": {
   "display_name": "Python 3 (ipykernel)",
   "language": "python",
   "name": "python3"
  },
  "language_info": {
   "codemirror_mode": {
    "name": "ipython",
    "version": 3
   },
   "file_extension": ".py",
   "mimetype": "text/x-python",
   "name": "python",
   "nbconvert_exporter": "python",
   "pygments_lexer": "ipython3",
   "version": "3.12.0"
  }
 },
 "nbformat": 4,
 "nbformat_minor": 4
}
